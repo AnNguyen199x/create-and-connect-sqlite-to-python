{
 "cells": [
  {
   "cell_type": "markdown",
   "metadata": {},
   "source": [
    "# install module and create data sample"
   ]
  },
  {
   "cell_type": "code",
   "execution_count": 1,
   "metadata": {},
   "outputs": [
    {
     "name": "stdout",
     "output_type": "stream",
     "text": [
      "Collecting faker\n",
      "  Obtaining dependency information for faker from https://files.pythonhosted.org/packages/30/50/cd430ebe6ec486ac5e13c27ae9410a0d0c510b4968a6a7a84878703d48f4/Faker-19.6.2-py3-none-any.whl.metadata\n",
      "  Downloading Faker-19.6.2-py3-none-any.whl.metadata (15 kB)\n",
      "Requirement already satisfied: python-dateutil>=2.4 in /home/codespace/.local/lib/python3.10/site-packages (from faker) (2.8.2)\n",
      "Requirement already satisfied: six>=1.5 in /home/codespace/.local/lib/python3.10/site-packages (from python-dateutil>=2.4->faker) (1.16.0)\n",
      "Downloading Faker-19.6.2-py3-none-any.whl (1.7 MB)\n",
      "\u001b[2K   \u001b[90m━━━━━━━━━━━━━━━━━━━━━━━━━━━━━━━━━━━━━━━━\u001b[0m \u001b[32m1.7/1.7 MB\u001b[0m \u001b[31m19.1 MB/s\u001b[0m eta \u001b[36m0:00:00\u001b[0m00:01\u001b[0m00:01\u001b[0m\n",
      "\u001b[?25hInstalling collected packages: faker\n",
      "Successfully installed faker-19.6.2\n"
     ]
    }
   ],
   "source": [
    "!pip install faker"
   ]
  },
  {
   "cell_type": "code",
   "execution_count": 4,
   "metadata": {},
   "outputs": [],
   "source": [
    "from faker import Faker\n",
    "fake = Faker()\n",
    "names = [fake.name().split() for _ in range(100)]"
   ]
  },
  {
   "cell_type": "code",
   "execution_count": 6,
   "metadata": {},
   "outputs": [],
   "source": [
    "names = [name for name in names if len(name)==2]"
   ]
  },
  {
   "cell_type": "code",
   "execution_count": 7,
   "metadata": {},
   "outputs": [
    {
     "data": {
      "text/plain": [
       "[['William', 'Vaughn'],\n",
       " ['Grace', 'Collins'],\n",
       " ['Maurice', 'Carter'],\n",
       " ['Benjamin', 'Gomez'],\n",
       " ['Ryan', 'Sharp'],\n",
       " ['Raymond', 'Frazier'],\n",
       " ['Courtney', 'Brown'],\n",
       " ['Christopher', 'Dennis'],\n",
       " ['Hannah', 'Smith'],\n",
       " ['Debbie', 'Rios'],\n",
       " ['Keith', 'Martin'],\n",
       " ['Robert', 'Montgomery'],\n",
       " ['Rhonda', 'Patterson'],\n",
       " ['Jacob', 'Mercer'],\n",
       " ['Jordan', 'Wheeler'],\n",
       " ['Sonya', 'Hughes'],\n",
       " ['Dawn', 'Hawkins'],\n",
       " ['Dawn', 'Johnson'],\n",
       " ['Adam', 'Henry'],\n",
       " ['Laura', 'Martinez'],\n",
       " ['Alejandra', 'Wong'],\n",
       " ['Ryan', 'Lowery'],\n",
       " ['Heather', 'King'],\n",
       " ['Leslie', 'Carter'],\n",
       " ['Kenneth', 'Estes'],\n",
       " ['Ryan', 'Davis'],\n",
       " ['Kevin', 'Weaver'],\n",
       " ['Phillip', 'Jensen'],\n",
       " ['Michael', 'Sweeney'],\n",
       " ['Robert', 'Lopez'],\n",
       " ['Christopher', 'Stewart'],\n",
       " ['James', 'Clarke'],\n",
       " ['Christopher', 'White'],\n",
       " ['Kimberly', 'Clarke'],\n",
       " ['Mary', 'Ward'],\n",
       " ['Jeremy', 'Johnson'],\n",
       " ['Sara', 'Meza'],\n",
       " ['Jill', 'Wheeler'],\n",
       " ['Amy', 'Rogers'],\n",
       " ['Jeffrey', 'Soto'],\n",
       " ['Brooke', 'Young'],\n",
       " ['Vincent', 'Campbell'],\n",
       " ['Christopher', 'Bush'],\n",
       " ['Cassandra', 'Bass'],\n",
       " ['Gregory', 'Harris'],\n",
       " ['Robert', 'Eaton'],\n",
       " ['Michelle', 'Evans'],\n",
       " ['Jimmy', 'Brown'],\n",
       " ['Paul', 'Ortega'],\n",
       " ['Katherine', 'Doyle'],\n",
       " ['Crystal', 'Fleming'],\n",
       " ['Ashley', 'Johnson'],\n",
       " ['Jessica', 'Jennings'],\n",
       " ['Harold', 'Bradley'],\n",
       " ['Rachael', 'Scott'],\n",
       " ['Andrea', 'Compton'],\n",
       " ['Terry', 'Pierce'],\n",
       " ['Travis', 'Conner'],\n",
       " ['Renee', 'Brown'],\n",
       " ['Matthew', 'Kline'],\n",
       " ['Sheila', 'Hall'],\n",
       " ['Joshua', 'Hanson'],\n",
       " ['Samuel', 'Fisher'],\n",
       " ['Timothy', 'Wilson'],\n",
       " ['Rachel', 'Santiago'],\n",
       " ['Amber', 'Aguirre'],\n",
       " ['Jason', 'Thornton'],\n",
       " ['Russell', 'Sullivan'],\n",
       " ['Carrie', 'Lewis'],\n",
       " ['Matthew', 'Cooper'],\n",
       " ['Michelle', 'Leblanc'],\n",
       " ['Amanda', 'Morgan'],\n",
       " ['Phyllis', 'Espinoza'],\n",
       " ['Taylor', 'Brock'],\n",
       " ['Adam', 'Allen'],\n",
       " ['Christian', 'Browning'],\n",
       " ['Teresa', 'Moore'],\n",
       " ['Tiffany', 'Bolton'],\n",
       " ['Selena', 'Jackson'],\n",
       " ['Brian', 'Mcguire'],\n",
       " ['Hannah', 'Freeman'],\n",
       " ['John', 'Hill'],\n",
       " ['William', 'Palmer'],\n",
       " ['Jeremy', 'Jarvis'],\n",
       " ['Omar', 'Stark'],\n",
       " ['Kaitlin', 'Porter'],\n",
       " ['Dennis', 'Hoffman'],\n",
       " ['Shelia', 'Ortega'],\n",
       " ['Lisa', 'Morales'],\n",
       " ['Daniel', 'Lopez'],\n",
       " ['Tamara', 'West'],\n",
       " ['Courtney', 'White'],\n",
       " ['James', 'Clayton'],\n",
       " ['Alan', 'Mckinney'],\n",
       " ['Amanda', 'Mitchell']]"
      ]
     },
     "execution_count": 7,
     "metadata": {},
     "output_type": "execute_result"
    }
   ],
   "source": [
    "names"
   ]
  },
  {
   "cell_type": "markdown",
   "metadata": {},
   "source": [
    "# Connect to SQLite DB created"
   ]
  },
  {
   "cell_type": "code",
   "execution_count": 8,
   "metadata": {},
   "outputs": [],
   "source": [
    "import sqlite3\n",
    "\n",
    "connection = sqlite3.connect(\"sample.db\")"
   ]
  },
  {
   "cell_type": "code",
   "execution_count": 10,
   "metadata": {},
   "outputs": [],
   "source": [
    "insert_query = \"INSERT INTO people(name, surname) VALUES(?, ?)\"\n",
    "cursor = connection.cursor()\n",
    "for name in names:\n",
    "    cursor.execute(insert_query, name)\n",
    "connection.commit()"
   ]
  },
  {
   "cell_type": "code",
   "execution_count": 11,
   "metadata": {},
   "outputs": [
    {
     "name": "stdout",
     "output_type": "stream",
     "text": [
      "(1, 'William', 'Vaughn')\n",
      "(2, 'Grace', 'Collins')\n",
      "(3, 'Maurice', 'Carter')\n",
      "(4, 'Benjamin', 'Gomez')\n",
      "(5, 'Ryan', 'Sharp')\n",
      "(6, 'Raymond', 'Frazier')\n",
      "(7, 'Courtney', 'Brown')\n",
      "(8, 'Christopher', 'Dennis')\n",
      "(9, 'Hannah', 'Smith')\n",
      "(10, 'Debbie', 'Rios')\n"
     ]
    }
   ],
   "source": [
    "select_query = \"SELECT * FROM people LIMIT 10\"\n",
    "for i in cursor.execute(select_query):\n",
    "    print(i)"
   ]
  }
 ],
 "metadata": {
  "kernelspec": {
   "display_name": "Python 3",
   "language": "python",
   "name": "python3"
  },
  "language_info": {
   "codemirror_mode": {
    "name": "ipython",
    "version": 3
   },
   "file_extension": ".py",
   "mimetype": "text/x-python",
   "name": "python",
   "nbconvert_exporter": "python",
   "pygments_lexer": "ipython3",
   "version": "3.10.8"
  },
  "orig_nbformat": 4
 },
 "nbformat": 4,
 "nbformat_minor": 2
}
